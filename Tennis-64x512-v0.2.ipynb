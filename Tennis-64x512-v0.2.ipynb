{
 "cells": [
  {
   "cell_type": "markdown",
   "metadata": {},
   "source": [
    "# Collaboration and Competition\n",
    "\n",
    "---\n",
    "\n",
    "In this notebook, you will learn how to use the Unity ML-Agents environment for the third project of the [Deep Reinforcement Learning Nanodegree](https://www.udacity.com/course/deep-reinforcement-learning-nanodegree--nd893) program.\n",
    "\n",
    "### 1. Start the Environment\n",
    "\n",
    "We begin by importing the necessary packages.  If the code cell below returns an error, please revisit the project instructions to double-check that you have installed [Unity ML-Agents](https://github.com/Unity-Technologies/ml-agents/blob/master/docs/Installation.md) and [NumPy](http://www.numpy.org/)."
   ]
  },
  {
   "cell_type": "code",
   "execution_count": 1,
   "metadata": {},
   "outputs": [
    {
     "data": {
      "text/html": [
       "<style>.container { width:100% !important; }</style>"
      ],
      "text/plain": [
       "<IPython.core.display.HTML object>"
      ]
     },
     "metadata": {},
     "output_type": "display_data"
    }
   ],
   "source": [
    "import pandas as pd\n",
    "from IPython.core.display import display, HTML\n",
    "display(HTML(\"<style>.container { width:100% !important; }</style>\"))\n",
    "\n",
    "#pd.set_option('display.height', 1000)\n",
    "pd.set_option('display.max_rows', 500)\n",
    "pd.set_option('display.max_columns', 500)\n",
    "pd.set_option('display.width', 1000)\n",
    "pd.set_option('display.expand_frame_repr', False)\n",
    "pd.set_option('max_colwidth', 800)\n",
    "pd.set_option('display.max_colwidth', 500)\n",
    "pd.set_option('expand_frame_repr', True)\n"
   ]
  },
  {
   "cell_type": "code",
   "execution_count": 2,
   "metadata": {},
   "outputs": [],
   "source": [
    "import os\n",
    "import sys\n",
    "\n",
    "sys.path.append('/home/ubuntu/udacity/deep-reinforcement-learning/p3_collab-compet/Tennis_Linux_NoVis/')\n",
    "sys.path.append('/home/ubuntu/Unity/ml-agents/ml-agents')\n",
    "sys.path.append(\"/home/ubuntu/udacity/deep-reinforcement-learning/python/\")\n",
    "\n",
    "from unityagents import UnityEnvironment\n",
    "\n",
    "import math\n",
    "import random\n",
    "import copy\n",
    "\n",
    "from collections import namedtuple, deque\n",
    "\n",
    "import torch\n",
    "import torch.optim as optim\n",
    "import torch.nn as nn\n",
    "import torch.nn.functional as F\n",
    "import matplotlib.pyplot as plt\n",
    "import numpy as np"
   ]
  },
  {
   "cell_type": "code",
   "execution_count": 3,
   "metadata": {},
   "outputs": [],
   "source": [
    "sys.path.append(\"/home/ubuntu/anaconda3/envs/gymenv/lib/python3.8/site-packages\")\n",
    "from tensorboardX import SummaryWriter\n",
    "writer = SummaryWriter(comment=\"MADDPG Tennis\")"
   ]
  },
  {
   "cell_type": "markdown",
   "metadata": {},
   "source": [
    "Next, we will start the environment!  **_Before running the code cell below_**, change the `file_name` parameter to match the location of the Unity environment that you downloaded.\n",
    "\n",
    "- **Mac**: `\"path/to/Tennis.app\"`\n",
    "- **Windows** (x86): `\"path/to/Tennis_Windows_x86/Tennis.exe\"`\n",
    "- **Windows** (x86_64): `\"path/to/Tennis_Windows_x86_64/Tennis.exe\"`\n",
    "- **Linux** (x86): `\"path/to/Tennis_Linux/Tennis.x86\"`\n",
    "- **Linux** (x86_64): `\"path/to/Tennis_Linux/Tennis.x86_64\"`\n",
    "- **Linux** (x86, headless): `\"path/to/Tennis_Linux_NoVis/Tennis.x86\"`\n",
    "- **Linux** (x86_64, headless): `\"path/to/Tennis_Linux_NoVis/Tennis.x86_64\"`\n",
    "\n",
    "For instance, if you are using a Mac, then you downloaded `Tennis.app`.  If this file is in the same folder as the notebook, then the line below should appear as follows:\n",
    "```\n",
    "env = UnityEnvironment(file_name=\"Tennis.app\")\n",
    "```"
   ]
  },
  {
   "cell_type": "code",
   "execution_count": 4,
   "metadata": {},
   "outputs": [
    {
     "name": "stderr",
     "output_type": "stream",
     "text": [
      "INFO:unityagents:\n",
      "'Academy' started successfully!\n",
      "Unity Academy name: Academy\n",
      "        Number of Brains: 1\n",
      "        Number of External Brains : 1\n",
      "        Lesson number : 0\n",
      "        Reset Parameters :\n",
      "\t\t\n",
      "Unity brain name: TennisBrain\n",
      "        Number of Visual Observations (per agent): 0\n",
      "        Vector Observation space type: continuous\n",
      "        Vector Observation space size (per agent): 8\n",
      "        Number of stacked Vector Observation: 3\n",
      "        Vector Action space type: continuous\n",
      "        Vector Action space size (per agent): 2\n",
      "        Vector Action descriptions: , \n"
     ]
    }
   ],
   "source": [
    "env = UnityEnvironment(file_name=\"/home/ubuntu/udacity/deep-reinforcement-learning/p3_collab-compet/Tennis_Linux/Tennis.x86_64\")"
   ]
  },
  {
   "cell_type": "markdown",
   "metadata": {},
   "source": [
    "Environments contain **_brains_** which are responsible for deciding the actions of their associated agents. Here we check for the first brain available, and set it as the default brain we will be controlling from Python."
   ]
  },
  {
   "cell_type": "code",
   "execution_count": 5,
   "metadata": {},
   "outputs": [],
   "source": [
    "# get the default brain\n",
    "brain_name = env.brain_names[0]\n",
    "brain = env.brains[brain_name]"
   ]
  },
  {
   "cell_type": "code",
   "execution_count": 6,
   "metadata": {
    "scrolled": true
   },
   "outputs": [
    {
     "data": {
      "text/plain": [
       "device(type='cuda', index=1)"
      ]
     },
     "execution_count": 6,
     "metadata": {},
     "output_type": "execute_result"
    }
   ],
   "source": [
    "device  = torch.device(\"cuda:1\" if torch.cuda.is_available() else \"cuda:0\")\n",
    "device"
   ]
  },
  {
   "cell_type": "markdown",
   "metadata": {},
   "source": [
    "###  Continuous Control wtih Deep Deterministic Policy Gradients"
   ]
  },
  {
   "cell_type": "code",
   "execution_count": 7,
   "metadata": {},
   "outputs": [],
   "source": [
    "args = { \n",
    "    \"BUFFER_SIZE\":int(1e6),\n",
    "    \"BATCH_SIZE\":1024,  \n",
    "    \"GAMMA\":0.99,\n",
    "    \"TAU\":2e-3,\n",
    "    \"LR_ACTOR\":1e-3,\n",
    "    \"LR_CRITIC\":1.1e-3,\n",
    "    \"WEIGHT_DECAY\":0.0001,\n",
    "    \"UPDATE_EVERY\":5,\n",
    "    \"EXPLORE_NOISE\":0.05,\n",
    "    \"FC1_UNITS\":64,\n",
    "    \"FC2_UNITS\":512,\n",
    "    \"FC3_UNITS\":32,\n",
    "    \"seed\":0,\n",
    "    \"state_size\":24,\n",
    "    \"action_size\":2,\n",
    "    \"num_agents\":2,\n",
    "    \"device\":device,\n",
    "    'mcritic_path':'/home/ubuntu/udacity/deep-reinforcement-learning/p3_collab-compet/checkpoint_mCritic.pth.bak',\n",
    "    'agent_p0_path':'/home/ubuntu/udacity/deep-reinforcement-learning/p3_collab-compet/checkpoint_p0.pth.bak',\n",
    "    'agent_p1_path':'/home/ubuntu/udacity/deep-reinforcement-learning/p3_collab-compet/checkpoint_p1.pth.bak'\n",
    "}"
   ]
  },
  {
   "cell_type": "code",
   "execution_count": 8,
   "metadata": {},
   "outputs": [
    {
     "name": "stdout",
     "output_type": "stream",
     "text": [
      "===============Agent0 NETS =================\n",
      "ActorNetwork(\n",
      "  (fc1): Linear(in_features=24, out_features=64, bias=True)\n",
      "  (fc2): Linear(in_features=64, out_features=512, bias=True)\n",
      "  (fc3): Linear(in_features=512, out_features=2, bias=True)\n",
      ")\n",
      "ActorNetwork(\n",
      "  (fc1): Linear(in_features=24, out_features=64, bias=True)\n",
      "  (fc2): Linear(in_features=64, out_features=512, bias=True)\n",
      "  (fc3): Linear(in_features=512, out_features=2, bias=True)\n",
      ")\n",
      "===============Agent1 NETS =================\n",
      "ActorNetwork(\n",
      "  (fc1): Linear(in_features=24, out_features=64, bias=True)\n",
      "  (fc2): Linear(in_features=64, out_features=512, bias=True)\n",
      "  (fc3): Linear(in_features=512, out_features=2, bias=True)\n",
      ")\n",
      "ActorNetwork(\n",
      "  (fc1): Linear(in_features=24, out_features=64, bias=True)\n",
      "  (fc2): Linear(in_features=64, out_features=512, bias=True)\n",
      "  (fc3): Linear(in_features=512, out_features=2, bias=True)\n",
      ")\n",
      "===============CRITIC NETS ================\n",
      "CriticNetwork(\n",
      "  (fc1): Linear(in_features=26, out_features=64, bias=True)\n",
      "  (fc2): Linear(in_features=64, out_features=512, bias=True)\n",
      "  (fc3): Linear(in_features=512, out_features=1, bias=True)\n",
      ")\n",
      "CriticNetwork(\n",
      "  (fc1): Linear(in_features=26, out_features=64, bias=True)\n",
      "  (fc2): Linear(in_features=64, out_features=512, bias=True)\n",
      "  (fc3): Linear(in_features=512, out_features=1, bias=True)\n",
      ")\n",
      "===========================================\n",
      "\n",
      "Environment solved in -96 episodes!\tAverage Score: 1.25\n"
     ]
    }
   ],
   "source": [
    "import math\n",
    "import random\n",
    "import copy\n",
    "\n",
    "from collections import namedtuple, deque\n",
    "import matplotlib.pyplot as plt\n",
    "import numpy as np\n",
    "\n",
    "import model\n",
    "from agent import Agent\n",
    "from model import ActorNetwork, CriticNetwork, MCritic\n",
    "from replaybuffer import ReplayBuffer\n",
    "\n",
    "\n",
    "WINDOW_SIZE    = 100\n",
    "\n",
    "NUM_ITER       = 0\n",
    "MAX_T          = 1000\n",
    "\n",
    "\n",
    "def MADDPG(n_episodes=20000):\n",
    "    \n",
    "    global scores\n",
    "    \n",
    "    global NUM_ITER\n",
    "    \n",
    "    global scores_window\n",
    "    \n",
    "    epsilon      = 1.0\n",
    "\n",
    "    for i in range(1, n_episodes):                                      # play game for 5 episodes\n",
    "        env_info = env.reset(train_mode=False)[brain_name]     # reset the environment    \n",
    "        states = env_info.vector_observations                  # get the current state (for each agent)\n",
    "        scores = np.zeros(args['num_agents'])                          # initialize the score (for each agent)\n",
    "        \n",
    "        NUM_ITER += 1\n",
    "        \n",
    "        while True:\n",
    "            \n",
    "            actions = [agent_p0.act(states[0]),agent_p1.act(states[1])]\n",
    "            \n",
    "            actions     = np.clip(actions, -1, 1)                  # all actions between -1 and 1\n",
    "\n",
    "            env_info    = env.step(actions)[brain_name]           # send all actions to tne environment\n",
    "\n",
    "            next_states = env_info.vector_observations         # get next state (for each agent)\n",
    "\n",
    "            rewards     = env_info.rewards                         # get reward (for each agent)\n",
    "\n",
    "            dones       = env_info.local_done                        # see if episode finished\n",
    "            \n",
    "            for agent in agents:\n",
    "                agents[agent].step(states[agent],actions[agent],rewards[agent],next_states[agent],dones[agent])\n",
    "            \n",
    "            scores      += np.max(env_info.rewards)                         # update the max score (for each agent)\n",
    "            \n",
    "            \n",
    "            states       = next_states                               # roll over states to next time step\n",
    "\n",
    "            if np.any(dones):                                  # exit loop if episode finished\n",
    "                scores_window.append(scores)\n",
    "                break\n",
    "\n",
    "                \n",
    "        if i % WINDOW_SIZE == 0:\n",
    "            print('\\rEpisode {}\\tIterations: {}\\tAverage Score: {:.2f}'.format(i, NUM_ITER,np.mean(list(scores_window)[-WINDOW_SIZE:])))\n",
    "        if np.mean(list(scores_window)[-WINDOW_SIZE:])>=1.0 and n_episodes > WINDOW_SIZE:\n",
    "            print('\\nEnvironment solved in {:d} episodes!\\tAverage Score: {:.2f}'.format(i-WINDOW_SIZE, np.mean(list(scores_window)[-WINDOW_SIZE:])))\n",
    "            torch.save(agent_p0.actor_network.state_dict(), 'checkpoint_p0.pth')\n",
    "            torch.save(agent_p1.actor_network.state_dict(), 'checkpoint_p1.pth')\n",
    "            torch.save(mCritic.network.state_dict(), 'checkpoint_mCritic.pth')\n",
    "            break\n",
    "        else:\n",
    "            pass\n",
    "\n",
    "SharedBuffer  =  ReplayBuffer(args['action_size'], args['BUFFER_SIZE'], args['BATCH_SIZE'], args['seed'])\n",
    "\n",
    "mCritic       =  MCritic(args['state_size'],args['action_size'], args)\n",
    "agent_p0      =  Agent(args['state_size'],args['action_size'], 0,args)\n",
    "agent_p1      =  Agent(args['state_size'],args['action_size'], 1,args)\n",
    "\n",
    "\n",
    "        \n",
    "print(\"===============Agent0 NETS =================\")\n",
    "print(agent_p0.actor_network)\n",
    "print(agent_p0.actor_target)\n",
    "print(\"===============Agent1 NETS =================\")\n",
    "print(agent_p1.actor_network)\n",
    "print(agent_p1.actor_target)\n",
    "print(\"===============CRITIC NETS ================\")\n",
    "print(mCritic.network)\n",
    "print(mCritic.target)\n",
    "print(\"===========================================\")\n",
    "\n",
    "agents   = {0:agent_p0,1:agent_p1}\n",
    "\n",
    "scores_window = deque(maxlen=WINDOW_SIZE*10)\n",
    "\n",
    "MADDPG()"
   ]
  },
  {
   "cell_type": "code",
   "execution_count": 9,
   "metadata": {},
   "outputs": [],
   "source": [
    "scores_ = [np.max(x) for x in np.array(scores_window)]"
   ]
  },
  {
   "cell_type": "code",
   "execution_count": 10,
   "metadata": {},
   "outputs": [],
   "source": [
    "MAX_WINDOW = 1000\n",
    "WINDOW = 100\n",
    "episodes = [int(x) for x in np.arange((3288 - MAX_WINDOW),3288,1)]"
   ]
  },
  {
   "cell_type": "code",
   "execution_count": 11,
   "metadata": {},
   "outputs": [],
   "source": [
    "avg_scores_ = []\n",
    "\n",
    "for score_idx in range(MAX_WINDOW)[::-1]:\n",
    "    end_idx = score_idx-WINDOW\n",
    "    avg_scores_.append(sum(scores_[end_idx:score_idx])/WINDOW)\n",
    "\n",
    "avg_scores = avg_scores_[::-1]"
   ]
  },
  {
   "cell_type": "code",
   "execution_count": null,
   "metadata": {},
   "outputs": [],
   "source": [
    "import matplotlib.pyplot as plt\n",
    "plt.figure(figsize=(12,9))\n",
    "plt.plot(episodes,scores_window)\n",
    "plt.plot(episodes,avg_scores,'b--')\n",
    "plt.axhline(0.5)\n",
    "plt.xlabel(\"Episodes\")\n",
    "plt.ylabel('Scores')\n",
    "plt.show()"
   ]
  },
  {
   "cell_type": "code",
   "execution_count": null,
   "metadata": {},
   "outputs": [],
   "source": []
  },
  {
   "cell_type": "code",
   "execution_count": null,
   "metadata": {},
   "outputs": [],
   "source": []
  },
  {
   "cell_type": "code",
   "execution_count": null,
   "metadata": {},
   "outputs": [],
   "source": []
  },
  {
   "cell_type": "code",
   "execution_count": null,
   "metadata": {},
   "outputs": [],
   "source": []
  },
  {
   "cell_type": "code",
   "execution_count": null,
   "metadata": {},
   "outputs": [],
   "source": []
  },
  {
   "cell_type": "code",
   "execution_count": null,
   "metadata": {},
   "outputs": [],
   "source": []
  },
  {
   "cell_type": "code",
   "execution_count": null,
   "metadata": {},
   "outputs": [],
   "source": []
  },
  {
   "cell_type": "code",
   "execution_count": null,
   "metadata": {},
   "outputs": [],
   "source": []
  }
 ],
 "metadata": {
  "kernelspec": {
   "display_name": "drlnd",
   "language": "python",
   "name": "drlnd"
  },
  "language_info": {
   "codemirror_mode": {
    "name": "ipython",
    "version": 3
   },
   "file_extension": ".py",
   "mimetype": "text/x-python",
   "name": "python",
   "nbconvert_exporter": "python",
   "pygments_lexer": "ipython3",
   "version": "3.7.6"
  }
 },
 "nbformat": 4,
 "nbformat_minor": 2
}
